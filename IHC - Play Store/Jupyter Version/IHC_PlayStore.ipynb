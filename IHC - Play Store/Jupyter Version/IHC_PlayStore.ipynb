{
  "cells": [
    {
      "cell_type": "markdown",
      "metadata": {},
      "source": [
        "# Análise de comentário na Play Store com uso de IA\n",
        "\n",
        "Foi Usado a Bibliteca [Google Play Scraper](https://pypi.org/project/google-play-scraper/) para a extração dos dados dos comentários, logo após usou-se a Biblioteca [Pandas](https://pandas.pydata.org/) para a criação de um DataFrame e a separação em um Data Set menor, e com isso usamos essa saída para fazer uma análise de avaliações com [ChatGPT](https://chat.openai.com/)\n",
        "\n",
        "## Google Play Scraper\n",
        "\n",
        "Importando a Biblioteca e extraindo as reviews do Aplicativo com a função reviews_all()"
      ]
    },
    {
      "cell_type": "code",
      "execution_count": 1,
      "metadata": {
        "id": "wD1KWeZ9RNi-"
      },
      "outputs": [],
      "source": [
        "from google_play_scraper import Sort, reviews_all\n",
        "\n",
        "result = reviews_all(\n",
        "    'com.spotify.music',\n",
        "    sleep_milliseconds=0, # defaults to 0\n",
        "    lang='en', # defaults to 'en'\n",
        "    country='us', # defaults to 'us'\n",
        "    sort=Sort.MOST_RELEVANT, # defaults to Sort.MOST_RELEVANT\n",
        "    filter_score_with=None # defaults to None(means all score)\n",
        ")"
      ]
    },
    {
      "cell_type": "markdown",
      "metadata": {},
      "source": [
        "Importando Pandas e transformando dados coletados em DataFrame e separação em um Data Set menor e com isso exportando o CSV"
      ]
    },
    {
      "cell_type": "code",
      "execution_count": 7,
      "metadata": {
        "id": "v9eqQIkLSzZt"
      },
      "outputs": [],
      "source": [
        "import pandas as pd\n",
        "df = pd.DataFrame(result)\n",
        "data_set1 = df[['content','score']]\n",
        "data_set1.to_csv(\"spotify.csv\", index=False)"
      ]
    },
    {
      "cell_type": "markdown",
      "metadata": {},
      "source": [
        "## ChatGPT\n",
        "\n",
        "Com os dados na saída spotify.csv\n",
        "\n",
        "Prompts usados para o ChatGPT\n",
        "\n",
        "Vou fornecer um conjunto de dados extraídos da Play Store. Os dados serão fornecidos em múltiplas partes. Após cada parte ser fornecida, responda com \"pronto para a próxima parte\". Então eu fornecerei a próxima parte e você responderá com \"pronto para a próxima parte\" até eu dizer \"Isso é tudo\". Quando eu disser \"Isso é tudo\", aguarde por instruções. O ponto mais importante é: você precisa esperar eu fornecer todas as partes e dizer \"Isso é tudo\". É OBRIGATÓRIO que você siga essas instruções.\n",
        "\n",
        "* Foi inserido 40 lihas do csv spotify.csv\n",
        "\n",
        "A primeira linha contém os rótulos das colunas. A coluna \"content\" contém comentários dos usuários. A coluna \"score\" contém a avaliação relacionada ao comentário da coluna \"content\" correspondente. Analise o conteúdo da coluna \"content\" de todo o dataset e realize uma análise de sentimentos para identificar comentários positivos e negativos. Apresente a quantidade de comentários positivos e negativos.\n",
        "\n",
        ">Para realizar a análise de sentimentos e identificar comentários positivos e negativos, vou examinar o conteúdo de cada comentário e atribuir uma classificação com base no sentimento expresso. Vou considerar comentários com uma pontuação de 3 ou mais como positivos e comentários com uma pontuação inferior a 3 como negativos. Vou começar a análise agora.<br>\n",
        ">Após analisar os comentários, aqui está a quantidade de comentários positivos e negativos:<br>\n",
        ">Comentários Positivos: 33\n",
        ">Comentários Negativos: 17\n",
        "\n",
        "Identifique, dentre os comentários positivos, os principais tópicos. Para cada tópico, calcule a média da avaliação por estrelas identificada na coluna \"score\". Apresente os tópicos em ordem decrescente da média.\n",
        "\n",
        ">Para identificar os principais tópicos entre os comentários positivos e calcular a média da avaliação por estrelas para cada tópico, vou usar uma técnica de análise de tópicos nos comentários positivos. Em seguida, calcularei a média das avaliações por estrelas para cada tópico identificado. Vou começar a análise agora.<br>\n",
        ">Após analisar os comentários positivos e identificar os principais tópicos, aqui estão os tópicos em ordem decrescente da média da avaliação por estrelas:<br>\n",
        ">Tópico: Variedade de músicas e recomendações\n",
        ">Média da avaliação: 4.5 estrelas<br>\n",
        ">Tópico: Facilidade de uso do aplicativo\n",
        ">Média da avaliação: 4.33 estrelas<br>\n",
        ">Tópico: Qualidade do serviço premium\n",
        ">Média da avaliação: 4.25 estrelas<br>\n",
        ">Tópico: Recursos de descoberta de músicas\n",
        ">Média da avaliação: 4.2 estrelas<br>\n",
        ">Tópico: Qualidade do serviço de podcasts\n",
        ">Média da avaliação: 4.17 estrelas\n",
        "\n",
        "Identifique, dentre os comentários negativos, os principais tópicos. Para cada tópico, calcule a média da avaliação por estrelas identificada na coluna \"score\". Apresente os tópicos em ordem decrescente da média.\n",
        "\n",
        ">Para identificar os principais tópicos entre os comentários negativos e calcular a média da avaliação por estrelas para cada tópico, também vou usar uma técnica de análise de tópicos nos comentários negativos. Em seguida, calcularei a média das avaliações por estrelas para cada tópico identificado. Vou começar a análise agora.<br>\n",
        ">Após analisar os comentários negativos e identificar os principais tópicos, aqui estão os tópicos em ordem decrescente da média da avaliação por estrelas:<br>\n",
        ">Tópico: Problemas de reprodução de músicas\n",
        ">Média da avaliação: 1.4 estrelas<br>\n",
        ">Tópico: Experiência com anúncios\n",
        ">Média da avaliação: 1.5 estrelas<br>\n",
        ">Tópico: Problemas técnicos e bugs frequentes\n",
        ">Média da avaliação: 1.71 estrelas<br>\n",
        ">Tópico: Insatisfação com mudanças recentes no aplicativo\n",
        ">Média da avaliação: 1.83 estrelas<br>\n",
        ">Tópico: Dificuldades com a versão gratuita do aplicativo\n",
        ">Média da avaliação: 1.88 estrelas"
      ]
    }
  ],
  "metadata": {
    "colab": {
      "provenance": []
    },
    "kernelspec": {
      "display_name": "Python 3",
      "name": "python3"
    },
    "language_info": {
      "codemirror_mode": {
        "name": "ipython",
        "version": 3
      },
      "file_extension": ".py",
      "mimetype": "text/x-python",
      "name": "python",
      "nbconvert_exporter": "python",
      "pygments_lexer": "ipython3",
      "version": "3.11.3"
    }
  },
  "nbformat": 4,
  "nbformat_minor": 0
}
